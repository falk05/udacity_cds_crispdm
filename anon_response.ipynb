{
 "cells": [
  {
   "cell_type": "code",
   "execution_count": 9,
   "id": "59d2b458",
   "metadata": {},
   "outputs": [],
   "source": [
    "import json\n",
    "import datetime as dt\n",
    "from os import read\n",
    "import pandas as pd\n",
    "import numpy as np\n",
    "from pandas.io import html\n",
    "import csv\n"
   ]
  },
  {
   "cell_type": "markdown",
   "id": "3ea9275a",
   "metadata": {},
   "source": [
    "Takes as input a file called 'response.json' contained in the same directory as the script.\n",
    "response.json is received from Zaptec \"chargehistory\" API endpoint, with :\n",
    "https://api.zaptec.com/api/chargehistory\n",
    "\n",
    ">Option: `DetailLevel = 1` in order to retrieve the detailed energy consumption data"
   ]
  },
  {
   "cell_type": "code",
   "execution_count": 10,
   "id": "bf69890d",
   "metadata": {},
   "outputs": [],
   "source": [
    "file = 'response.json'"
   ]
  },
  {
   "cell_type": "code",
   "execution_count": 11,
   "id": "82dfee2a",
   "metadata": {},
   "outputs": [],
   "source": [
    "df = {}"
   ]
  },
  {
   "cell_type": "code",
   "execution_count": 12,
   "id": "4f96b112",
   "metadata": {},
   "outputs": [],
   "source": [
    "with open (file) as f:\n",
    "    df = json.load (f)"
   ]
  },
  {
   "cell_type": "code",
   "execution_count": 13,
   "id": "bd61f1c3",
   "metadata": {},
   "outputs": [],
   "source": [
    "df_norm = pd.json_normalize (df['Data'])"
   ]
  },
  {
   "cell_type": "code",
   "execution_count": 14,
   "id": "ad33fec3",
   "metadata": {},
   "outputs": [
    {
     "name": "stdout",
     "output_type": "stream",
     "text": [
      "<class 'pandas.core.frame.DataFrame'>\n",
      "RangeIndex: 435 entries, 0 to 434\n",
      "Data columns (total 23 columns):\n",
      " #   Column                                Non-Null Count  Dtype  \n",
      "---  ------                                --------------  -----  \n",
      " 0   Id                                    435 non-null    object \n",
      " 1   DeviceId                              435 non-null    object \n",
      " 2   StartDateTime                         435 non-null    object \n",
      " 3   EndDateTime                           435 non-null    object \n",
      " 4   Energy                                435 non-null    float64\n",
      " 5   CommitMetadata                        435 non-null    int64  \n",
      " 6   CommitEndDateTime                     435 non-null    object \n",
      " 7   ChargerId                             435 non-null    object \n",
      " 8   DeviceName                            435 non-null    object \n",
      " 9   ExternallyEnded                       435 non-null    bool   \n",
      " 10  SignedSession                         434 non-null    object \n",
      " 11  ChargerFirmwareVersion.Major          435 non-null    int64  \n",
      " 12  ChargerFirmwareVersion.Minor          435 non-null    int64  \n",
      " 13  ChargerFirmwareVersion.Build          435 non-null    int64  \n",
      " 14  ChargerFirmwareVersion.Revision       435 non-null    int64  \n",
      " 15  ChargerFirmwareVersion.MajorRevision  435 non-null    int64  \n",
      " 16  ChargerFirmwareVersion.MinorRevision  435 non-null    int64  \n",
      " 17  EnergyDetails                         433 non-null    object \n",
      " 18  UserUserName                          149 non-null    object \n",
      " 19  UserFullName                          149 non-null    object \n",
      " 20  UserEmail                             149 non-null    object \n",
      " 21  UserId                                149 non-null    object \n",
      " 22  TokenName                             149 non-null    object \n",
      "dtypes: bool(1), float64(1), int64(7), object(14)\n",
      "memory usage: 75.3+ KB\n"
     ]
    }
   ],
   "source": [
    "df_norm.info()"
   ]
  },
  {
   "cell_type": "code",
   "execution_count": 15,
   "id": "8f7723b6",
   "metadata": {},
   "outputs": [],
   "source": [
    "for d in df['Data']:\n",
    "    removeitem = d.pop('DeviceName', None)\n",
    "    removeitem = d.pop('UserUserName', None)\n",
    "    removeitem = d.pop('UserFullName', None)\n",
    "    removeitem = d.pop('UserEmail', None)\n",
    "    removeitem = d.pop('TokenName', None)\n",
    "    removeitem = d.pop('ChargerFirmwareVersion', None)"
   ]
  },
  {
   "cell_type": "code",
   "execution_count": 16,
   "id": "e1c3f795",
   "metadata": {},
   "outputs": [],
   "source": [
    "with open ('response_anon.json', 'w') as outf:\n",
    "    json.dump (df, outf)"
   ]
  }
 ],
 "metadata": {
  "kernelspec": {
   "display_name": "Python 3 (ipykernel)",
   "language": "python",
   "name": "python3"
  },
  "language_info": {
   "codemirror_mode": {
    "name": "ipython",
    "version": 3
   },
   "file_extension": ".py",
   "mimetype": "text/x-python",
   "name": "python",
   "nbconvert_exporter": "python",
   "pygments_lexer": "ipython3",
   "version": "3.9.12"
  },
  "vscode": {
   "interpreter": {
    "hash": "aee8b7b246df8f9039afb4144a1f6fd8d2ca17a180786b69acc140d282b71a49"
   }
  }
 },
 "nbformat": 4,
 "nbformat_minor": 5
}
